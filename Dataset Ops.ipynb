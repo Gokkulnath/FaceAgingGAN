{
 "cells": [
  {
   "cell_type": "code",
   "execution_count": 15,
   "metadata": {},
   "outputs": [],
   "source": [
    "import re\n",
    "import shutil\n",
    "import os\n",
    "from collections import Counter\n",
    "from glob import glob\n",
    "import random\n",
    "\n",
    "dataset = \"crop_part1\"\n"
   ]
  },
  {
   "cell_type": "markdown",
   "metadata": {},
   "source": [
    "The labels of each face image is embedded in the file name, formated like `[age]_[gender]_[race]_[date&time].jpg`\n",
    "\n",
    "- `[age]` is an integer from 0 to 116, indicating the age\n",
    "- `[gender]` is either 0 (male) or 1 (female)\n",
    "- `[race]` is an integer from 0 to 4, denoting White, Black, Asian, Indian, and Others (like Hispanic, Latino, Middle Eastern).\n",
    "- `[date&time]` is in the format of yyyymmddHHMMSSFFF, showing the date and time an image was collected to UTKFace.\n",
    "- eg. 18_1_0_20170109213544430.jpg.chip.jpg"
   ]
  },
  {
   "cell_type": "code",
   "execution_count": 16,
   "metadata": {},
   "outputs": [],
   "source": [
    "imgs =  glob(f'{dataset}/*')"
   ]
  },
  {
   "cell_type": "code",
   "execution_count": 17,
   "metadata": {},
   "outputs": [],
   "source": [
    "age_ls=[]\n",
    "gender_ls=[]\n",
    "for img_path in imgs:\n",
    "    age, gender = re.findall(pattern=r'(\\d+)_(\\d)_',string=img_path)[0]\n",
    "    age_ls.append(int(age))\n",
    "    gender_ls.append(int(gender))"
   ]
  },
  {
   "cell_type": "code",
   "execution_count": 18,
   "metadata": {},
   "outputs": [
    {
     "data": {
      "text/plain": [
       "(2323, 2390)"
      ]
     },
     "execution_count": 18,
     "metadata": {},
     "output_type": "execute_result"
    }
   ],
   "source": [
    "old =  [age for age in age_ls if age >= 50]\n",
    "young = [age for age in age_ls if age >= 15 and age <=30]\n",
    "len(young),len(old)"
   ]
  },
  {
   "cell_type": "code",
   "execution_count": 19,
   "metadata": {},
   "outputs": [],
   "source": [
    "os.makedirs(\"train/A\", exist_ok=True)\n",
    "os.makedirs(\"train/B\", exist_ok=True)"
   ]
  },
  {
   "cell_type": "code",
   "execution_count": 20,
   "metadata": {},
   "outputs": [
    {
     "name": "stdout",
     "output_type": "stream",
     "text": [
      "No of images in young is 2323 and old is 2390\n"
     ]
    }
   ],
   "source": [
    "count_a = count_b = 0\n",
    "for fn in glob(\"crop_part1/*\"):\n",
    "    age, _ = re.findall(pattern=r\"(\\d+)_(\\d)_\", string=fn)[0]\n",
    "    age = int(age)\n",
    "    if age >= 15 and age <= 30:\n",
    "        shutil.copy(fn, fn.replace(\"crop_part1\", \"train/A\"))\n",
    "        count_a += 1\n",
    "    elif age >= 50:\n",
    "        shutil.copy(fn, fn.replace(\"crop_part1\", \"train/B\"))\n",
    "        count_b += 1\n",
    "    else:\n",
    "        continue\n",
    "print(\"No of images in young is {} and old is {}\".format(count_a, count_b))\n"
   ]
  },
  {
   "cell_type": "code",
   "execution_count": 21,
   "metadata": {},
   "outputs": [],
   "source": [
    "## Setting up the test dataset for evaluating the performance\n",
    "\n",
    "test_size =100\n",
    "\n",
    "os.makedirs('test/A', exist_ok=True)\n",
    "os.makedirs('test/B', exist_ok=True)\n",
    "for split in ['train/A','train/B']:\n",
    "    pattern = f'{split}/*'\n",
    "    files = glob(pattern)\n",
    "    paths = random.sample(files,k=test_size)\n",
    "    for path in paths:\n",
    "        shutil.move(path, path.replace(\"train\", \"test\"))"
   ]
  },
  {
   "cell_type": "code",
   "execution_count": null,
   "metadata": {},
   "outputs": [],
   "source": []
  }
 ],
 "metadata": {
  "kernelspec": {
   "display_name": "Python (infi)",
   "language": "python",
   "name": "infi"
  },
  "language_info": {
   "codemirror_mode": {
    "name": "ipython",
    "version": 3
   },
   "file_extension": ".py",
   "mimetype": "text/x-python",
   "name": "python",
   "nbconvert_exporter": "python",
   "pygments_lexer": "ipython3",
   "version": "3.6.8"
  }
 },
 "nbformat": 4,
 "nbformat_minor": 4
}
