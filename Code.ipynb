{
 "cells": [
  {
   "cell_type": "code",
   "execution_count": null,
   "metadata": {},
   "outputs": [],
   "source": []
  },
  {
   "cell_type": "markdown",
   "metadata": {},
   "source": [
    "##### Imports"
   ]
  },
  {
   "cell_type": "code",
   "execution_count": 3,
   "metadata": {},
   "outputs": [],
   "source": [
    "import torch \n",
    "from torch.utils.data import DataLoader,Dataset\n",
    "from torchvision.datasets import DatasetFolder, ImageFolder"
   ]
  },
  {
   "cell_type": "markdown",
   "metadata": {},
   "source": [
    "The labels of each face image is embedded in the file name, formated like `[age]_[gender]_[race]_[date&time].jpg`\n",
    "\n",
    "- `[age]` is an integer from 0 to 116, indicating the age\n",
    "- `[gender]` is either 0 (male) or 1 (female)\n",
    "- `[race]` is an integer from 0 to 4, denoting White, Black, Asian, Indian, and Others (like Hispanic, Latino, Middle Eastern).\n",
    "- `[date&time]` is in the format of yyyymmddHHMMSSFFF, showing the date and time an image was collected to UTKFace.\n",
    "- eg. 18_1_0_20170109213544430.jpg.chip.jpg\n",
    "\n",
    "\n",
    "- **Note** : Run prepare_dataset.py script to create the required dataset structure. We Split the the UTKFace Dataset into 2 Groups. Young (>=15 and <=30) and old (>=50)\n",
    "\n"
   ]
  },
  {
   "cell_type": "markdown",
   "metadata": {},
   "source": [
    "### Dataset and Dataloader"
   ]
  },
  {
   "cell_type": "code",
   "execution_count": 44,
   "metadata": {},
   "outputs": [],
   "source": [
    "from PIL import Image\n",
    "from glob import glob\n",
    "from torchvision.transforms import Compose,ToTensor\n",
    "class FolderDataset(Dataset):\n",
    "    def __init__(self,root,ext='.jpg',loader=Image.open,transforms=None):\n",
    "        self.root = root\n",
    "        self.ext = ext\n",
    "        self.loader = loader\n",
    "        self.items = glob(f'{self.root}/*{self.ext}')\n",
    "        self.transforms = transforms\n",
    "        self.default_tfms = Compose([ToTensor()])\n",
    "        \n",
    "        \n",
    "    def __getitem__(self,idx):\n",
    "        if self.transforms:\n",
    "            tfms = self.transforms+self.default_tfms\n",
    "            return tfms(self.loader(self.items[idx]))\n",
    "        return self.default_tfms(self.loader(self.items[idx]))\n",
    "    def __len__(self):\n",
    "        return len(self.items)"
   ]
  },
  {
   "cell_type": "code",
   "execution_count": 45,
   "metadata": {},
   "outputs": [],
   "source": [
    "young_ds =  FolderDataset('young',ext='')\n",
    "old_ds = FolderDataset('old',ext='')"
   ]
  },
  {
   "cell_type": "code",
   "execution_count": 51,
   "metadata": {},
   "outputs": [],
   "source": [
    "bs=16"
   ]
  },
  {
   "cell_type": "code",
   "execution_count": 52,
   "metadata": {},
   "outputs": [],
   "source": [
    "young_dl = DataLoader(young_ds, batch_size=bs, drop_last=True, num_workers=0)\n",
    "old_dl = DataLoader(old_ds, batch_size=bs, drop_last=True,num_workers=0)"
   ]
  },
  {
   "cell_type": "code",
   "execution_count": null,
   "metadata": {},
   "outputs": [],
   "source": []
  }
 ],
 "metadata": {
  "kernelspec": {
   "display_name": "Python (infi)",
   "language": "python",
   "name": "infi"
  },
  "language_info": {
   "codemirror_mode": {
    "name": "ipython",
    "version": 3
   },
   "file_extension": ".py",
   "mimetype": "text/x-python",
   "name": "python",
   "nbconvert_exporter": "python",
   "pygments_lexer": "ipython3",
   "version": "3.6.8"
  }
 },
 "nbformat": 4,
 "nbformat_minor": 4
}
